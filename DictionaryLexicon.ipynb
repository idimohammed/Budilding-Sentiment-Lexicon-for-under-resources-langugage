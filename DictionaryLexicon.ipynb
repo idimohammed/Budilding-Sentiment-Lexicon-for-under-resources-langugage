{
  "nbformat": 4,
  "nbformat_minor": 0,
  "metadata": {
    "colab": {
      "provenance": []
    },
    "kernelspec": {
      "name": "python3",
      "display_name": "Python 3"
    },
    "language_info": {
      "name": "python"
    }
  },
  "cells": [
    {
      "cell_type": "code",
      "source": [
        "# imports the necessary libraries, including the csv module for reading and writing CSV files,\n",
        "# the pandas module for data manipulation, and the transformers module for natural language processing.\n",
        "!pip3 install transformers\n",
        "import csv\n",
        "import pandas as pd\n",
        "from transformers import AutoTokenizer, AutoModelForSequenceClassification\n",
        "from scipy.special import softmax"
      ],
      "metadata": {
        "id": "qzZkj-tgC47e"
      },
      "execution_count": null,
      "outputs": []
    },
    {
      "cell_type": "code",
      "source": [
        "# Load the Mode and tokenizer\n",
        "roberta = \"cardiffnlp/twitter-roberta-base-sentiment\"\n",
        "model = AutoModelForSequenceClassification.from_pretrained(roberta)\n",
        "tokenizer = AutoTokenizer.from_pretrained(roberta)\n",
        "labels = ['Negative', 'Neutral', 'Positive']"
      ],
      "metadata": {
        "id": "47rJsNrkC-Ej"
      },
      "execution_count": null,
      "outputs": []
    },
    {
      "cell_type": "code",
      "source": [
        "# Sentiment analysis function. This function is called several number of times depend on the rows found in testdata.csv\n",
        "def SentimentAnalysis(text):\n",
        "  encoded_text = tokenizer(text,return_tensors='pt')\n",
        "  output = model(**encoded_text)\n",
        "  scores = output[0][0].detach().numpy()\n",
        "  scores = softmax(scores)\n",
        "\n",
        "  if((scores[0] > scores[1]) and (scores[0] > scores[2])):\n",
        "    return 'Negative'\n",
        "  elif((scores[1] > scores[0]) and (scores[1] > scores[2])):\n",
        "    return 'Neutral'\n",
        "  else:\n",
        "    return 'Positive'"
      ],
      "metadata": {
        "id": "NJwd9J0KDFhc"
      },
      "execution_count": null,
      "outputs": []
    },
    {
      "cell_type": "code",
      "source": [
        "# Open the CSV file\n",
        "with open('testdata.csv', 'r') as file:\n",
        "    # Create a CSV reader object\n",
        "    reader = csv.reader(file)\n",
        "    MyClass = ' ';\n",
        "    data = [['Seeds'],['English'],['Polarity']]\n",
        "    # Read and print each row\n",
        "    for row in reader:\n",
        "      MyClass = SentimentAnalysis(row[1])\n",
        "      data.append([row[0],row[1],MyClass])\n",
        "\n"
      ],
      "metadata": {
        "id": "4ZwU86j-enWJ"
      },
      "execution_count": null,
      "outputs": []
    },
    {
      "cell_type": "code",
      "source": [
        "#Create a DataFrame\n",
        "mywords = pd.DataFrame(data, columns=['Seeds','English','Polarity'])\n",
        "#print(mywords)\n",
        "mywords.to_csv('results.csv')"
      ],
      "metadata": {
        "id": "EaXUL5jMqblH"
      },
      "execution_count": null,
      "outputs": []
    }
  ]
}